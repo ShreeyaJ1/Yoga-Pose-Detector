{
  "cells": [
    {
      "cell_type": "code",
      "execution_count": null,
      "metadata": {
        "id": "dFDRJR3hsKV4"
      },
      "outputs": [],
      "source": [
        "import mediapipe as mp\n",
        "from mediapipe.tasks import python\n",
        "from mediapipe.tasks.python import vision\n"
      ]
    },
    {
      "cell_type": "code",
      "execution_count": 1,
      "metadata": {},
      "outputs": [
        {
          "name": "stdout",
          "output_type": "stream",
          "text": [
            "/Users/sarthakjain/anaconda3/envs/ml_env/bin/python\n"
          ]
        }
      ],
      "source": [
        "import sys\n",
        "print(sys.executable)"
      ]
    },
    {
      "cell_type": "code",
      "execution_count": null,
      "metadata": {
        "id": "mbSfRTD3sKYh"
      },
      "outputs": [],
      "source": [
        "model_path = 'pose_landmarker_lite.task'"
      ]
    },
    {
      "cell_type": "code",
      "execution_count": 13,
      "metadata": {
        "id": "iqsrtQQxvg_L"
      },
      "outputs": [],
      "source": [
        "import os\n",
        "import numpy as np\n",
        "import cv2"
      ]
    },
    {
      "cell_type": "code",
      "execution_count": null,
      "metadata": {
        "colab": {
          "base_uri": "https://localhost:8080/"
        },
        "id": "lN4Q7RKZsKa1",
        "outputId": "20a5b8a5-934e-4f3e-c928-f67e9c31b835"
      },
      "outputs": [],
      "source": [
        "import os\n",
        "import numpy as np\n",
        "import mediapipe as mp\n",
        "\n",
        "BaseOptions = mp.tasks.BaseOptions\n",
        "PoseLandmarker = mp.tasks.vision.PoseLandmarker\n",
        "PoseLandmarkerOptions = mp.tasks.vision.PoseLandmarkerOptions\n",
        "VisionRunningMode = mp.tasks.vision.RunningMode\n",
        "\n",
        "options = PoseLandmarkerOptions(\n",
        "    base_options=BaseOptions(model_asset_path=model_path),\n",
        "    running_mode=VisionRunningMode.IMAGE\n",
        ")\n",
        "\n",
        "dataset_path = \"/content/TRAIN\"\n",
        "X = []\n",
        "y = []\n",
        "\n",
        "with PoseLandmarker.create_from_options(options) as landmarker:\n",
        "    for label_folder in os.listdir(dataset_path):\n",
        "\n",
        "        label_path = os.path.join(dataset_path, label_folder)\n",
        "        if not os.path.isdir(label_path):\n",
        "            continue\n",
        "\n",
        "        images_folder = os.path.join(label_path, \"Images\")\n",
        "        if not os.path.isdir(images_folder):\n",
        "            continue\n",
        "\n",
        "        for image_file in os.listdir(images_folder):\n",
        "            if not image_file.lower().endswith(('.png', '.jpg', '.jpeg')):\n",
        "                continue\n",
        "\n",
        "            full_image_path = os.path.join(images_folder, image_file)\n",
        "\n",
        "            test_img = cv2.imread(full_image_path)\n",
        "            if test_img is None:\n",
        "                print(f\"Skipping invalid image: {full_image_path}\")\n",
        "                continue  # skip to next image\n",
        "\n",
        "\n",
        "            image_rgb = cv2.cvtColor(test_img, cv2.COLOR_BGR2RGB)\n",
        "\n",
        "            # Convert to MediaPipe Image object\n",
        "            mp_image = mp.Image(image_format=mp.ImageFormat.SRGB, data=image_rgb)\n",
        "\n",
        "            result = landmarker.detect(mp_image)\n",
        "\n",
        "            if result.pose_landmarks and len(result.pose_landmarks) > 0:\n",
        "                landmark_list = result.pose_landmarks[0]  # 1 person\n",
        "                landmarks = []\n",
        "                for lm in landmark_list:\n",
        "                    landmarks.extend([lm.x, lm.y, lm.z, lm.visibility])\n",
        "                X.append(landmarks)\n",
        "                y.append(label_folder)\n",
        "\n",
        "# Convert to arrays\n",
        "X = np.array(X)\n",
        "y = np.array(y)\n",
        "\n",
        "print(\"Feature shape:\", X.shape)\n",
        "print(\"Labels shape:\", y.shape)\n",
        "\n",
        "\n"
      ]
    },
    {
      "cell_type": "code",
      "execution_count": 17,
      "metadata": {
        "colab": {
          "base_uri": "https://localhost:8080/"
        },
        "id": "COTFbLcksKdK",
        "outputId": "f4bccea2-a533-4477-f549-a8c12fd50529"
      },
      "outputs": [
        {
          "name": "stdout",
          "output_type": "stream",
          "text": [
            "[ 0.8757658   0.53908175 -0.67610019  0.99999869  0.89034152  0.55701411\n",
            " -0.64062256  0.99999416  0.8876375   0.56449693 -0.64058036  0.99999738\n",
            "  0.88498503  0.57207268 -0.64052153  0.99999297  0.89694303  0.53808522\n",
            " -0.64274484  0.99999595  0.89873356  0.53240204 -0.6427213   0.99999654\n",
            "  0.90026587  0.52710998 -0.642658    0.99999344  0.87312973  0.57837862\n",
            " -0.42572474  0.99998832  0.89264321  0.5186516  -0.42588976  0.99999654\n",
            "  0.85428524  0.54616767 -0.59736389  0.99997377  0.86434942  0.51980579\n",
            " -0.59826982  0.99998295  0.77098054  0.59526509 -0.24354801  0.99991822\n",
            "  0.82456315  0.42983502 -0.31969675  0.9999764   0.74479109  0.74048346\n",
            " -0.29503557  0.98926896  0.81868935  0.27991378 -0.32880712  0.99010694\n",
            "  0.75473166  0.86369467 -0.51292527  0.98435348  0.82677448  0.1524585\n",
            " -0.54001486  0.99009752  0.75565398  0.89619273 -0.55652636  0.95910573\n",
            "  0.83813274  0.10977322 -0.59231228  0.97423685  0.75702089  0.8965925\n",
            " -0.6087665   0.95910197  0.83824384  0.1109426  -0.65255892  0.97544312\n",
            "  0.7576564   0.88727975 -0.54689467  0.96060169  0.83243763  0.12593693\n",
            " -0.57587898  0.97512209  0.57308888  0.45825076  0.06191997  0.99998069\n",
            "  0.56804717  0.3511889  -0.06180764  0.9999963   0.57076067  0.66493547\n",
            "  0.04841758  0.98016101  0.36752158  0.27872881 -0.10021424  0.99647105\n",
            "  0.56445473  0.88830173  0.18845151  0.99063909  0.16645911  0.20368703\n",
            "  0.05213429  0.9922896   0.54911393  0.90930265  0.18991598  0.98711783\n",
            "  0.14383635  0.1945819   0.0539974   0.96987176  0.63046837  0.94658601\n",
            "  0.06507397  0.991593    0.11949426  0.17296185 -0.18593808  0.99168581]\n"
          ]
        }
      ],
      "source": [
        "print(X[0])"
      ]
    },
    {
      "cell_type": "code",
      "execution_count": 1,
      "metadata": {
        "id": "wo03o_-gu47X"
      },
      "outputs": [
        {
          "ename": "NameError",
          "evalue": "name 'y' is not defined",
          "output_type": "error",
          "traceback": [
            "\u001b[0;31m---------------------------------------------------------------------------\u001b[0m",
            "\u001b[0;31mNameError\u001b[0m                                 Traceback (most recent call last)",
            "Cell \u001b[0;32mIn[1], line 4\u001b[0m\n\u001b[1;32m      1\u001b[0m \u001b[38;5;28;01mfrom\u001b[39;00m \u001b[38;5;21;01msklearn\u001b[39;00m\u001b[38;5;21;01m.\u001b[39;00m\u001b[38;5;21;01mpreprocessing\u001b[39;00m \u001b[38;5;28;01mimport\u001b[39;00m LabelEncoder\n\u001b[1;32m      3\u001b[0m label_encoder \u001b[38;5;241m=\u001b[39m LabelEncoder()\n\u001b[0;32m----> 4\u001b[0m y_encoded \u001b[38;5;241m=\u001b[39m label_encoder\u001b[38;5;241m.\u001b[39mfit_transform(\u001b[43my\u001b[49m)  \u001b[38;5;66;03m# e.g., 'Tadasana' -> 0, 'Vrikshasana' -> 1\u001b[39;00m\n",
            "\u001b[0;31mNameError\u001b[0m: name 'y' is not defined"
          ]
        }
      ],
      "source": [
        "from sklearn.preprocessing import LabelEncoder\n",
        "\n",
        "label_encoder = LabelEncoder()\n",
        "y_encoded = label_encoder.fit_transform(y)  # e.g., 'Tadasana' -> 0, 'Vrikshasana' -> 1\n"
      ]
    },
    {
      "cell_type": "code",
      "execution_count": null,
      "metadata": {},
      "outputs": [],
      "source": [
        "for i, pose_name in enumerate(label_encoder.classes_):\n",
        "    print(f\"Encoded value {i} corresponds to: {pose_name}\")"
      ]
    },
    {
      "cell_type": "code",
      "execution_count": 20,
      "metadata": {
        "id": "5u5qTeT92J_D"
      },
      "outputs": [],
      "source": [
        "from sklearn.model_selection import train_test_split\n",
        "\n",
        "X_train, X_test, y_train, y_test = train_test_split(X, y_encoded, test_size=0.2, random_state=42, stratify=y_encoded)\n"
      ]
    },
    {
      "cell_type": "code",
      "execution_count": 21,
      "metadata": {
        "colab": {
          "base_uri": "https://localhost:8080/"
        },
        "id": "oeGqTHy62KEn",
        "outputId": "a81f649d-493b-4021-d9fb-8ddfb778eb1c"
      },
      "outputs": [
        {
          "name": "stderr",
          "output_type": "stream",
          "text": [
            "/usr/local/lib/python3.11/dist-packages/keras/src/layers/core/dense.py:87: UserWarning: Do not pass an `input_shape`/`input_dim` argument to a layer. When using Sequential models, prefer using an `Input(shape)` object as the first layer in the model instead.\n",
            "  super().__init__(activity_regularizer=activity_regularizer, **kwargs)\n"
          ]
        },
        {
          "name": "stdout",
          "output_type": "stream",
          "text": [
            "Epoch 1/20\n",
            "\u001b[1m12/12\u001b[0m \u001b[32m━━━━━━━━━━━━━━━━━━━━\u001b[0m\u001b[37m\u001b[0m \u001b[1m2s\u001b[0m 29ms/step - accuracy: 0.2417 - loss: 1.9928 - val_accuracy: 0.5361 - val_loss: 1.7593\n",
            "Epoch 2/20\n",
            "\u001b[1m12/12\u001b[0m \u001b[32m━━━━━━━━━━━━━━━━━━━━\u001b[0m\u001b[37m\u001b[0m \u001b[1m0s\u001b[0m 9ms/step - accuracy: 0.5412 - loss: 1.6692 - val_accuracy: 0.6907 - val_loss: 1.5260\n",
            "Epoch 3/20\n",
            "\u001b[1m12/12\u001b[0m \u001b[32m━━━━━━━━━━━━━━━━━━━━\u001b[0m\u001b[37m\u001b[0m \u001b[1m0s\u001b[0m 12ms/step - accuracy: 0.7072 - loss: 1.4012 - val_accuracy: 0.6701 - val_loss: 1.3271\n",
            "Epoch 4/20\n",
            "\u001b[1m12/12\u001b[0m \u001b[32m━━━━━━━━━━━━━━━━━━━━\u001b[0m\u001b[37m\u001b[0m \u001b[1m0s\u001b[0m 10ms/step - accuracy: 0.7005 - loss: 1.2694 - val_accuracy: 0.6907 - val_loss: 1.1664\n",
            "Epoch 5/20\n",
            "\u001b[1m12/12\u001b[0m \u001b[32m━━━━━━━━━━━━━━━━━━━━\u001b[0m\u001b[37m\u001b[0m \u001b[1m0s\u001b[0m 10ms/step - accuracy: 0.7088 - loss: 1.1014 - val_accuracy: 0.8351 - val_loss: 1.0038\n",
            "Epoch 6/20\n",
            "\u001b[1m12/12\u001b[0m \u001b[32m━━━━━━━━━━━━━━━━━━━━\u001b[0m\u001b[37m\u001b[0m \u001b[1m0s\u001b[0m 9ms/step - accuracy: 0.8243 - loss: 0.9177 - val_accuracy: 0.8351 - val_loss: 0.8718\n",
            "Epoch 7/20\n",
            "\u001b[1m12/12\u001b[0m \u001b[32m━━━━━━━━━━━━━━━━━━━━\u001b[0m\u001b[37m\u001b[0m \u001b[1m0s\u001b[0m 9ms/step - accuracy: 0.8049 - loss: 0.8696 - val_accuracy: 0.7938 - val_loss: 0.8028\n",
            "Epoch 8/20\n",
            "\u001b[1m12/12\u001b[0m \u001b[32m━━━━━━━━━━━━━━━━━━━━\u001b[0m\u001b[37m\u001b[0m \u001b[1m0s\u001b[0m 9ms/step - accuracy: 0.7641 - loss: 0.8132 - val_accuracy: 0.8969 - val_loss: 0.6777\n",
            "Epoch 9/20\n",
            "\u001b[1m12/12\u001b[0m \u001b[32m━━━━━━━━━━━━━━━━━━━━\u001b[0m\u001b[37m\u001b[0m \u001b[1m0s\u001b[0m 12ms/step - accuracy: 0.8084 - loss: 0.7032 - val_accuracy: 0.8969 - val_loss: 0.6042\n",
            "Epoch 10/20\n",
            "\u001b[1m12/12\u001b[0m \u001b[32m━━━━━━━━━━━━━━━━━━━━\u001b[0m\u001b[37m\u001b[0m \u001b[1m0s\u001b[0m 9ms/step - accuracy: 0.9153 - loss: 0.5431 - val_accuracy: 0.9175 - val_loss: 0.5373\n",
            "Epoch 11/20\n",
            "\u001b[1m12/12\u001b[0m \u001b[32m━━━━━━━━━━━━━━━━━━━━\u001b[0m\u001b[37m\u001b[0m \u001b[1m0s\u001b[0m 10ms/step - accuracy: 0.8737 - loss: 0.5395 - val_accuracy: 0.8866 - val_loss: 0.5075\n",
            "Epoch 12/20\n",
            "\u001b[1m12/12\u001b[0m \u001b[32m━━━━━━━━━━━━━━━━━━━━\u001b[0m\u001b[37m\u001b[0m \u001b[1m0s\u001b[0m 9ms/step - accuracy: 0.8758 - loss: 0.4990 - val_accuracy: 0.9175 - val_loss: 0.4667\n",
            "Epoch 13/20\n",
            "\u001b[1m12/12\u001b[0m \u001b[32m━━━━━━━━━━━━━━━━━━━━\u001b[0m\u001b[37m\u001b[0m \u001b[1m0s\u001b[0m 8ms/step - accuracy: 0.9171 - loss: 0.4553 - val_accuracy: 0.9175 - val_loss: 0.3932\n",
            "Epoch 14/20\n",
            "\u001b[1m12/12\u001b[0m \u001b[32m━━━━━━━━━━━━━━━━━━━━\u001b[0m\u001b[37m\u001b[0m \u001b[1m0s\u001b[0m 9ms/step - accuracy: 0.9003 - loss: 0.4405 - val_accuracy: 0.9278 - val_loss: 0.3767\n",
            "Epoch 15/20\n",
            "\u001b[1m12/12\u001b[0m \u001b[32m━━━━━━━━━━━━━━━━━━━━\u001b[0m\u001b[37m\u001b[0m \u001b[1m0s\u001b[0m 9ms/step - accuracy: 0.9150 - loss: 0.3895 - val_accuracy: 0.8866 - val_loss: 0.3633\n",
            "Epoch 16/20\n",
            "\u001b[1m12/12\u001b[0m \u001b[32m━━━━━━━━━━━━━━━━━━━━\u001b[0m\u001b[37m\u001b[0m \u001b[1m0s\u001b[0m 9ms/step - accuracy: 0.9079 - loss: 0.3888 - val_accuracy: 0.9278 - val_loss: 0.3190\n",
            "Epoch 17/20\n",
            "\u001b[1m12/12\u001b[0m \u001b[32m━━━━━━━━━━━━━━━━━━━━\u001b[0m\u001b[37m\u001b[0m \u001b[1m0s\u001b[0m 10ms/step - accuracy: 0.9393 - loss: 0.3260 - val_accuracy: 0.9588 - val_loss: 0.2944\n",
            "Epoch 18/20\n",
            "\u001b[1m12/12\u001b[0m \u001b[32m━━━━━━━━━━━━━━━━━━━━\u001b[0m\u001b[37m\u001b[0m \u001b[1m0s\u001b[0m 9ms/step - accuracy: 0.9366 - loss: 0.3086 - val_accuracy: 0.9278 - val_loss: 0.2803\n",
            "Epoch 19/20\n",
            "\u001b[1m12/12\u001b[0m \u001b[32m━━━━━━━━━━━━━━━━━━━━\u001b[0m\u001b[37m\u001b[0m \u001b[1m0s\u001b[0m 9ms/step - accuracy: 0.9414 - loss: 0.3071 - val_accuracy: 0.9485 - val_loss: 0.2544\n",
            "Epoch 20/20\n",
            "\u001b[1m12/12\u001b[0m \u001b[32m━━━━━━━━━━━━━━━━━━━━\u001b[0m\u001b[37m\u001b[0m \u001b[1m0s\u001b[0m 9ms/step - accuracy: 0.9634 - loss: 0.2581 - val_accuracy: 0.9485 - val_loss: 0.2467\n"
          ]
        },
        {
          "data": {
            "text/plain": [
              "<keras.src.callbacks.history.History at 0x7b43f33eea10>"
            ]
          },
          "execution_count": 21,
          "metadata": {},
          "output_type": "execute_result"
        }
      ],
      "source": [
        "from tensorflow.keras.models import Sequential\n",
        "from tensorflow.keras.layers import Dense\n",
        "\n",
        "model = Sequential([\n",
        "    Dense(128, activation='relu', input_shape=(132,)),\n",
        "    Dense(64, activation='relu'),\n",
        "    Dense(len(np.unique(y_encoded)), activation='softmax')\n",
        "])\n",
        "\n",
        "model.compile(optimizer='adam', loss='sparse_categorical_crossentropy', metrics=['accuracy'])\n",
        "model.fit(X_train, y_train, validation_data=(X_test, y_test), epochs=20)\n"
      ]
    },
    {
      "cell_type": "code",
      "execution_count": 23,
      "metadata": {
        "colab": {
          "base_uri": "https://localhost:8080/"
        },
        "id": "I_1um98B2KKA",
        "outputId": "7f87da4f-57cd-4733-aadd-08d4a0eb7580"
      },
      "outputs": [
        {
          "name": "stdout",
          "output_type": "stream",
          "text": [
            "\u001b[1m4/4\u001b[0m \u001b[32m━━━━━━━━━━━━━━━━━━━━\u001b[0m\u001b[37m\u001b[0m \u001b[1m0s\u001b[0m 9ms/step - accuracy: 0.9471 - loss: 0.2546 \n",
            "Validation accuracy: 0.9484536051750183\n"
          ]
        }
      ],
      "source": [
        "\n",
        "\n",
        "# For neural net\n",
        "loss, acc = model.evaluate(X_test, y_test)\n",
        "print(\"Validation accuracy:\", acc)\n"
      ]
    },
    {
      "cell_type": "code",
      "execution_count": 25,
      "metadata": {
        "id": "pYej9twe2KPi"
      },
      "outputs": [],
      "source": [
        "model.save(\"yoga_pose_model.keras\")\n",
        "#Saving the final trained model"
      ]
    }
  ],
  "metadata": {
    "colab": {
      "provenance": []
    },
    "kernelspec": {
      "display_name": "ml_env",
      "language": "python",
      "name": "python3"
    },
    "language_info": {
      "codemirror_mode": {
        "name": "ipython",
        "version": 3
      },
      "file_extension": ".py",
      "mimetype": "text/x-python",
      "name": "python",
      "nbconvert_exporter": "python",
      "pygments_lexer": "ipython3",
      "version": "3.10.9"
    }
  },
  "nbformat": 4,
  "nbformat_minor": 0
}
